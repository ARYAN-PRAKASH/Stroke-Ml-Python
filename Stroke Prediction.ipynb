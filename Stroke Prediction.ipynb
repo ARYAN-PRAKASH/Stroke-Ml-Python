{
 "cells": [
  {
   "cell_type": "code",
   "execution_count": 1,
   "id": "b82c2ccd",
   "metadata": {},
   "outputs": [],
   "source": [
    "import pandas as pd\n",
    "import numpy as np\n",
    "import matplotlib.pyplot as plt"
   ]
  },
  {
   "cell_type": "code",
   "execution_count": 2,
   "id": "f9f03242",
   "metadata": {},
   "outputs": [],
   "source": [
    "stroke_df=pd.read_csv(\"stroke.csv\")"
   ]
  },
  {
   "cell_type": "code",
   "execution_count": 3,
   "id": "b07ab863",
   "metadata": {},
   "outputs": [
    {
     "data": {
      "text/html": [
       "<div>\n",
       "<style scoped>\n",
       "    .dataframe tbody tr th:only-of-type {\n",
       "        vertical-align: middle;\n",
       "    }\n",
       "\n",
       "    .dataframe tbody tr th {\n",
       "        vertical-align: top;\n",
       "    }\n",
       "\n",
       "    .dataframe thead th {\n",
       "        text-align: right;\n",
       "    }\n",
       "</style>\n",
       "<table border=\"1\" class=\"dataframe\">\n",
       "  <thead>\n",
       "    <tr style=\"text-align: right;\">\n",
       "      <th></th>\n",
       "      <th>id</th>\n",
       "      <th>gender</th>\n",
       "      <th>age</th>\n",
       "      <th>hypertension</th>\n",
       "      <th>heart_disease</th>\n",
       "      <th>ever_married</th>\n",
       "      <th>work_type</th>\n",
       "      <th>Residence_type</th>\n",
       "      <th>avg_glucose_level</th>\n",
       "      <th>bmi</th>\n",
       "      <th>smoking_status</th>\n",
       "      <th>stroke</th>\n",
       "    </tr>\n",
       "  </thead>\n",
       "  <tbody>\n",
       "    <tr>\n",
       "      <th>0</th>\n",
       "      <td>9046</td>\n",
       "      <td>Male</td>\n",
       "      <td>67.0</td>\n",
       "      <td>0</td>\n",
       "      <td>1</td>\n",
       "      <td>Yes</td>\n",
       "      <td>Private</td>\n",
       "      <td>Urban</td>\n",
       "      <td>228.69</td>\n",
       "      <td>36.6</td>\n",
       "      <td>formerly smoked</td>\n",
       "      <td>1</td>\n",
       "    </tr>\n",
       "    <tr>\n",
       "      <th>1</th>\n",
       "      <td>51676</td>\n",
       "      <td>Female</td>\n",
       "      <td>61.0</td>\n",
       "      <td>0</td>\n",
       "      <td>0</td>\n",
       "      <td>Yes</td>\n",
       "      <td>Self-employed</td>\n",
       "      <td>Rural</td>\n",
       "      <td>202.21</td>\n",
       "      <td>NaN</td>\n",
       "      <td>never smoked</td>\n",
       "      <td>1</td>\n",
       "    </tr>\n",
       "    <tr>\n",
       "      <th>2</th>\n",
       "      <td>31112</td>\n",
       "      <td>Male</td>\n",
       "      <td>80.0</td>\n",
       "      <td>0</td>\n",
       "      <td>1</td>\n",
       "      <td>Yes</td>\n",
       "      <td>Private</td>\n",
       "      <td>Rural</td>\n",
       "      <td>105.92</td>\n",
       "      <td>32.5</td>\n",
       "      <td>never smoked</td>\n",
       "      <td>1</td>\n",
       "    </tr>\n",
       "    <tr>\n",
       "      <th>3</th>\n",
       "      <td>60182</td>\n",
       "      <td>Female</td>\n",
       "      <td>49.0</td>\n",
       "      <td>0</td>\n",
       "      <td>0</td>\n",
       "      <td>Yes</td>\n",
       "      <td>Private</td>\n",
       "      <td>Urban</td>\n",
       "      <td>171.23</td>\n",
       "      <td>34.4</td>\n",
       "      <td>smokes</td>\n",
       "      <td>1</td>\n",
       "    </tr>\n",
       "    <tr>\n",
       "      <th>4</th>\n",
       "      <td>1665</td>\n",
       "      <td>Female</td>\n",
       "      <td>79.0</td>\n",
       "      <td>1</td>\n",
       "      <td>0</td>\n",
       "      <td>Yes</td>\n",
       "      <td>Self-employed</td>\n",
       "      <td>Rural</td>\n",
       "      <td>174.12</td>\n",
       "      <td>24.0</td>\n",
       "      <td>never smoked</td>\n",
       "      <td>1</td>\n",
       "    </tr>\n",
       "    <tr>\n",
       "      <th>...</th>\n",
       "      <td>...</td>\n",
       "      <td>...</td>\n",
       "      <td>...</td>\n",
       "      <td>...</td>\n",
       "      <td>...</td>\n",
       "      <td>...</td>\n",
       "      <td>...</td>\n",
       "      <td>...</td>\n",
       "      <td>...</td>\n",
       "      <td>...</td>\n",
       "      <td>...</td>\n",
       "      <td>...</td>\n",
       "    </tr>\n",
       "    <tr>\n",
       "      <th>5105</th>\n",
       "      <td>18234</td>\n",
       "      <td>Female</td>\n",
       "      <td>80.0</td>\n",
       "      <td>1</td>\n",
       "      <td>0</td>\n",
       "      <td>Yes</td>\n",
       "      <td>Private</td>\n",
       "      <td>Urban</td>\n",
       "      <td>83.75</td>\n",
       "      <td>NaN</td>\n",
       "      <td>never smoked</td>\n",
       "      <td>0</td>\n",
       "    </tr>\n",
       "    <tr>\n",
       "      <th>5106</th>\n",
       "      <td>44873</td>\n",
       "      <td>Female</td>\n",
       "      <td>81.0</td>\n",
       "      <td>0</td>\n",
       "      <td>0</td>\n",
       "      <td>Yes</td>\n",
       "      <td>Self-employed</td>\n",
       "      <td>Urban</td>\n",
       "      <td>125.20</td>\n",
       "      <td>40.0</td>\n",
       "      <td>never smoked</td>\n",
       "      <td>0</td>\n",
       "    </tr>\n",
       "    <tr>\n",
       "      <th>5107</th>\n",
       "      <td>19723</td>\n",
       "      <td>Female</td>\n",
       "      <td>35.0</td>\n",
       "      <td>0</td>\n",
       "      <td>0</td>\n",
       "      <td>Yes</td>\n",
       "      <td>Self-employed</td>\n",
       "      <td>Rural</td>\n",
       "      <td>82.99</td>\n",
       "      <td>30.6</td>\n",
       "      <td>never smoked</td>\n",
       "      <td>0</td>\n",
       "    </tr>\n",
       "    <tr>\n",
       "      <th>5108</th>\n",
       "      <td>37544</td>\n",
       "      <td>Male</td>\n",
       "      <td>51.0</td>\n",
       "      <td>0</td>\n",
       "      <td>0</td>\n",
       "      <td>Yes</td>\n",
       "      <td>Private</td>\n",
       "      <td>Rural</td>\n",
       "      <td>166.29</td>\n",
       "      <td>25.6</td>\n",
       "      <td>formerly smoked</td>\n",
       "      <td>0</td>\n",
       "    </tr>\n",
       "    <tr>\n",
       "      <th>5109</th>\n",
       "      <td>44679</td>\n",
       "      <td>Female</td>\n",
       "      <td>44.0</td>\n",
       "      <td>0</td>\n",
       "      <td>0</td>\n",
       "      <td>Yes</td>\n",
       "      <td>Govt_job</td>\n",
       "      <td>Urban</td>\n",
       "      <td>85.28</td>\n",
       "      <td>26.2</td>\n",
       "      <td>Unknown</td>\n",
       "      <td>0</td>\n",
       "    </tr>\n",
       "  </tbody>\n",
       "</table>\n",
       "<p>5110 rows × 12 columns</p>\n",
       "</div>"
      ],
      "text/plain": [
       "         id  gender   age  hypertension  heart_disease ever_married  \\\n",
       "0      9046    Male  67.0             0              1          Yes   \n",
       "1     51676  Female  61.0             0              0          Yes   \n",
       "2     31112    Male  80.0             0              1          Yes   \n",
       "3     60182  Female  49.0             0              0          Yes   \n",
       "4      1665  Female  79.0             1              0          Yes   \n",
       "...     ...     ...   ...           ...            ...          ...   \n",
       "5105  18234  Female  80.0             1              0          Yes   \n",
       "5106  44873  Female  81.0             0              0          Yes   \n",
       "5107  19723  Female  35.0             0              0          Yes   \n",
       "5108  37544    Male  51.0             0              0          Yes   \n",
       "5109  44679  Female  44.0             0              0          Yes   \n",
       "\n",
       "          work_type Residence_type  avg_glucose_level   bmi   smoking_status  \\\n",
       "0           Private          Urban             228.69  36.6  formerly smoked   \n",
       "1     Self-employed          Rural             202.21   NaN     never smoked   \n",
       "2           Private          Rural             105.92  32.5     never smoked   \n",
       "3           Private          Urban             171.23  34.4           smokes   \n",
       "4     Self-employed          Rural             174.12  24.0     never smoked   \n",
       "...             ...            ...                ...   ...              ...   \n",
       "5105        Private          Urban              83.75   NaN     never smoked   \n",
       "5106  Self-employed          Urban             125.20  40.0     never smoked   \n",
       "5107  Self-employed          Rural              82.99  30.6     never smoked   \n",
       "5108        Private          Rural             166.29  25.6  formerly smoked   \n",
       "5109       Govt_job          Urban              85.28  26.2          Unknown   \n",
       "\n",
       "      stroke  \n",
       "0          1  \n",
       "1          1  \n",
       "2          1  \n",
       "3          1  \n",
       "4          1  \n",
       "...      ...  \n",
       "5105       0  \n",
       "5106       0  \n",
       "5107       0  \n",
       "5108       0  \n",
       "5109       0  \n",
       "\n",
       "[5110 rows x 12 columns]"
      ]
     },
     "execution_count": 3,
     "metadata": {},
     "output_type": "execute_result"
    }
   ],
   "source": [
    "stroke_df"
   ]
  },
  {
   "cell_type": "markdown",
   "id": "0a319b2d",
   "metadata": {},
   "source": [
    "## Changing everthing to numbers"
   ]
  },
  {
   "cell_type": "markdown",
   "id": "4df1fe99",
   "metadata": {},
   "source": [
    "Gender 1-> Male , 0-> Female"
   ]
  },
  {
   "cell_type": "code",
   "execution_count": 4,
   "id": "7ef67a94",
   "metadata": {},
   "outputs": [],
   "source": [
    "# stroke_df[\"gender\"]"
   ]
  },
  {
   "cell_type": "code",
   "execution_count": 5,
   "id": "5e2ea927",
   "metadata": {},
   "outputs": [],
   "source": [
    "stroke_df[\"gender\"] = (stroke_df[\"gender\"]==\"Male\").astype(dtype=int)"
   ]
  },
  {
   "cell_type": "code",
   "execution_count": 6,
   "id": "0701bcdc",
   "metadata": {},
   "outputs": [
    {
     "data": {
      "text/plain": [
       "0    2995\n",
       "1    2115\n",
       "Name: gender, dtype: int64"
      ]
     },
     "execution_count": 6,
     "metadata": {},
     "output_type": "execute_result"
    }
   ],
   "source": [
    "stroke_df[\"gender\"].value_counts()"
   ]
  },
  {
   "cell_type": "markdown",
   "id": "54cb7a32",
   "metadata": {},
   "source": [
    "ever_married 1-> Yes , 0-> No"
   ]
  },
  {
   "cell_type": "code",
   "execution_count": 7,
   "id": "aed5b597",
   "metadata": {},
   "outputs": [
    {
     "data": {
      "text/plain": [
       "Yes    3353\n",
       "No     1757\n",
       "Name: ever_married, dtype: int64"
      ]
     },
     "execution_count": 7,
     "metadata": {},
     "output_type": "execute_result"
    }
   ],
   "source": [
    "stroke_df[\"ever_married\"].value_counts()"
   ]
  },
  {
   "cell_type": "code",
   "execution_count": 8,
   "id": "8af8ff35",
   "metadata": {},
   "outputs": [],
   "source": [
    "stroke_df[\"ever_married\"]=(stroke_df[\"ever_married\"] == \"Yes\").astype(dtype=int)"
   ]
  },
  {
   "cell_type": "code",
   "execution_count": 9,
   "id": "c5f2df64",
   "metadata": {},
   "outputs": [
    {
     "data": {
      "text/plain": [
       "1    3353\n",
       "0    1757\n",
       "Name: ever_married, dtype: int64"
      ]
     },
     "execution_count": 9,
     "metadata": {},
     "output_type": "execute_result"
    }
   ],
   "source": [
    "stroke_df[\"ever_married\"].value_counts()"
   ]
  },
  {
   "cell_type": "markdown",
   "id": "b577117a",
   "metadata": {},
   "source": [
    "\n",
    "Residence_type 1-> Urban , 0-> Rural"
   ]
  },
  {
   "cell_type": "code",
   "execution_count": 10,
   "id": "3ff37a56",
   "metadata": {},
   "outputs": [],
   "source": [
    "stroke_df[\"Residence_type\"] = (stroke_df[\"Residence_type\"]==\"Urban\").astype(dtype=int)"
   ]
  },
  {
   "cell_type": "code",
   "execution_count": 11,
   "id": "6a717b13",
   "metadata": {},
   "outputs": [
    {
     "data": {
      "text/plain": [
       "1    2596\n",
       "0    2514\n",
       "Name: Residence_type, dtype: int64"
      ]
     },
     "execution_count": 11,
     "metadata": {},
     "output_type": "execute_result"
    }
   ],
   "source": [
    "stroke_df[\"Residence_type\"].value_counts()"
   ]
  },
  {
   "cell_type": "markdown",
   "id": "5519d22f",
   "metadata": {},
   "source": [
    "smoking_status\n",
    "\n",
    "formerly smoked , smokes are 1\n",
    "\n",
    "never smoked ,  Unknown    are 0       "
   ]
  },
  {
   "cell_type": "code",
   "execution_count": 12,
   "id": "6410ee26",
   "metadata": {},
   "outputs": [
    {
     "data": {
      "text/plain": [
       "never smoked       1892\n",
       "Unknown            1544\n",
       "formerly smoked     885\n",
       "smokes              789\n",
       "Name: smoking_status, dtype: int64"
      ]
     },
     "execution_count": 12,
     "metadata": {},
     "output_type": "execute_result"
    }
   ],
   "source": [
    "stroke_df[\"smoking_status\"].value_counts()"
   ]
  },
  {
   "cell_type": "code",
   "execution_count": 13,
   "id": "1814d20f",
   "metadata": {},
   "outputs": [],
   "source": [
    "# Smokers\n",
    "\n",
    "ss=stroke_df.loc[(stroke_df[\"smoking_status\"] == \"smokes\")]\n",
    "fs=stroke_df.loc[(stroke_df[\"smoking_status\"] == \"formerly smoked\")].copy()\n",
    "\n",
    "smokers=np.array([ss,fs],dtype=object)\n",
    "\n",
    "a1_df=pd.DataFrame(smokers[0])\n",
    "a1_df[\"smoking_status\"] = 1\n",
    "\n",
    "c1_df=pd.DataFrame(smokers[1])\n",
    "c1_df[\"smoking_status\"] = 1\n",
    "\n",
    "\n",
    "final_smokers=np.concatenate((a1_df.to_numpy(),c1_df.to_numpy()))\n"
   ]
  },
  {
   "cell_type": "code",
   "execution_count": 14,
   "id": "4020a58a",
   "metadata": {},
   "outputs": [],
   "source": [
    "# Not Smokers\n",
    "\n",
    "us=stroke_df.loc[(stroke_df[\"smoking_status\"] == \"Unknown\")]\n",
    "ns=stroke_df.loc[(stroke_df[\"smoking_status\"] == \"never smoked\")]\n",
    "\n",
    "not_smokers=np.array([us,ns],dtype=object)\n",
    "\n",
    "a_df=pd.DataFrame(not_smokers[0])\n",
    "a_df[\"smoking_status\"] = 0\n",
    "\n",
    "c_df=pd.DataFrame(not_smokers[1])\n",
    "c_df[\"smoking_status\"] = 0\n",
    "\n",
    "\n",
    "final_not_smokers=np.concatenate((a_df.to_numpy(),c_df.to_numpy()))\n",
    "\n",
    "\n",
    "\n",
    "\n",
    "\n",
    "\n"
   ]
  },
  {
   "cell_type": "code",
   "execution_count": 15,
   "id": "bb763a21",
   "metadata": {},
   "outputs": [],
   "source": [
    "# not_smokes_np=np.concatenate([ns.drop(\"work_type\",axis=1).to_numpy(),us.drop(\"work_type\",axis=1).to_numpy()]) # Converting to an numpy array of all smokes with 1"
   ]
  },
  {
   "cell_type": "markdown",
   "id": "4f3646e9",
   "metadata": {},
   "source": [
    "## Combining the numpy array to a single dataframe"
   ]
  },
  {
   "cell_type": "code",
   "execution_count": 16,
   "id": "e78bbd58",
   "metadata": {},
   "outputs": [],
   "source": [
    "# new_stroke_df=pd.DataFrame(np.concatenate((final_smokers,final_not_smokers)))\n",
    "final_arr=np.concatenate((final_smokers,final_not_smokers))\n",
    "new_stroke_df=pd.DataFrame(final_arr)\n",
    "new_stroke_df.columns=stroke_df.columns"
   ]
  },
  {
   "cell_type": "code",
   "execution_count": 17,
   "id": "45839ba2",
   "metadata": {},
   "outputs": [
    {
     "data": {
      "text/plain": [
       "0    3436\n",
       "1    1674\n",
       "Name: smoking_status, dtype: int64"
      ]
     },
     "execution_count": 17,
     "metadata": {},
     "output_type": "execute_result"
    }
   ],
   "source": [
    "new_stroke_df[\"smoking_status\"].value_counts()"
   ]
  },
  {
   "cell_type": "code",
   "execution_count": 18,
   "id": "a0a2dfab",
   "metadata": {},
   "outputs": [
    {
     "data": {
      "text/plain": [
       "id                   object\n",
       "gender               object\n",
       "age                  object\n",
       "hypertension         object\n",
       "heart_disease        object\n",
       "ever_married         object\n",
       "work_type            object\n",
       "Residence_type       object\n",
       "avg_glucose_level    object\n",
       "bmi                  object\n",
       "smoking_status       object\n",
       "stroke               object\n",
       "dtype: object"
      ]
     },
     "execution_count": 18,
     "metadata": {},
     "output_type": "execute_result"
    }
   ],
   "source": [
    "new_stroke_df.dtypes"
   ]
  },
  {
   "cell_type": "code",
   "execution_count": 19,
   "id": "38427b20",
   "metadata": {},
   "outputs": [],
   "source": [
    " stroke_df=new_stroke_df.copy()   #Copying the Final output to our current dataframe"
   ]
  },
  {
   "cell_type": "markdown",
   "id": "b9f2f650",
   "metadata": {},
   "source": [
    "# Fixing nan in bmi"
   ]
  },
  {
   "cell_type": "code",
   "execution_count": 20,
   "id": "7d078b85",
   "metadata": {},
   "outputs": [],
   "source": [
    "mean_bmi=stroke_df[\"bmi\"].mean()\n",
    "stroke_df[\"bmi\"].fillna(mean_bmi,inplace=True)"
   ]
  },
  {
   "cell_type": "code",
   "execution_count": 21,
   "id": "df2ba637",
   "metadata": {},
   "outputs": [
    {
     "data": {
      "text/plain": [
       "2124    10.3\n",
       "2647    11.3\n",
       "4032    11.5\n",
       "1843    12.0\n",
       "1908    12.3\n",
       "        ... \n",
       "2109    66.8\n",
       "3415    71.9\n",
       "151     78.0\n",
       "4763    92.0\n",
       "2286    97.6\n",
       "Name: bmi, Length: 5110, dtype: float64"
      ]
     },
     "execution_count": 21,
     "metadata": {},
     "output_type": "execute_result"
    }
   ],
   "source": [
    "stroke_df[\"bmi\"].sort_values()"
   ]
  },
  {
   "cell_type": "markdown",
   "id": "8f558141",
   "metadata": {},
   "source": [
    " ## Shuffling the test and train data"
   ]
  },
  {
   "cell_type": "code",
   "execution_count": 22,
   "id": "7cde4a50",
   "metadata": {},
   "outputs": [
    {
     "data": {
      "text/plain": [
       "id                    object\n",
       "gender                object\n",
       "age                   object\n",
       "hypertension          object\n",
       "heart_disease         object\n",
       "ever_married          object\n",
       "work_type             object\n",
       "Residence_type        object\n",
       "avg_glucose_level     object\n",
       "bmi                  float64\n",
       "smoking_status        object\n",
       "stroke                object\n",
       "dtype: object"
      ]
     },
     "execution_count": 22,
     "metadata": {},
     "output_type": "execute_result"
    }
   ],
   "source": [
    "stroke_df.dtypes"
   ]
  },
  {
   "cell_type": "code",
   "execution_count": 23,
   "id": "5caca84a",
   "metadata": {},
   "outputs": [],
   "source": [
    "from sklearn.model_selection import ShuffleSplit\n",
    "\n",
    "x_stroke_df=stroke_df.drop(\"stroke\",axis=1)\n",
    "x_stroke_df=x_stroke_df.drop(\"id\",axis=1)\n",
    "x_stroke_df=x_stroke_df.drop(\"work_type\",axis=1)\n",
    "\n",
    "\n",
    "X=np.array(x_stroke_df)\n",
    "\n",
    "y=np.array(stroke_df[\"stroke\"]).astype('int')\n",
    "\n",
    "sss=ShuffleSplit(n_splits=5,test_size=0.1,random_state=38)"
   ]
  },
  {
   "cell_type": "code",
   "execution_count": 24,
   "id": "9f35198a",
   "metadata": {
    "collapsed": true
   },
   "outputs": [
    {
     "name": "stdout",
     "output_type": "stream",
     "text": [
      "Train :  [2282 1337  587 ... 4412 4149 3915] Test :  [5099 2213 5014 2074 4645 3524 3762 1454 3668 2301 2658 1104 1273 4260\n",
      " 4706  125 3455 5086 3038 3551 4557 2865 4788 4931 2670 1515 4845 4540\n",
      " 3674 3591 1455 1385  433 2854  527 2806  669 1607 3871 3849 1508 1053\n",
      " 3178  188 2108 3715  171 2167 1620 3805  787 1754  549 2907 1056  696\n",
      " 1780  405 2460 4274 4357 1005 4973 3320 3776 1340  197 4961 4079 3029\n",
      " 3099 1224 3612 4780  468 4375  978 4025 2361 1580 3088  407 3954 1440\n",
      " 1443  905 3409 3310 3476 2229 1673  258 2395 4512 3496 2993 1021 1376\n",
      " 2383 4751 2925 2425 1670   28 4352   94 3248  145  858 2781 5016 1831\n",
      "   62 3484 1028 3661 3819 3494 3087 1429  673 3014  127 3897 4197 2844\n",
      " 4194 3446 3739 2681 3628 1256  515 3598 3713  176 4085 1834 2504 4055\n",
      " 3227 3651 4681 3217 2676 1231 1037 1009 2403  839 3581 4602 2472 5070\n",
      " 4521 3071  604 4290 1484 3263 1427 3659 2242 2753  860 3365 2272 4408\n",
      " 1829 3922 2166 5003 4372 1501 3497 3976 4934 2946 2379   10  413 1343\n",
      " 4161 3109  746 3884 1971 5035 1859 3144 5054 3607 4221 3080 3096 1331\n",
      " 1428 2646 4017  245  356 3195 4156 2156 4432 3759 2861 2259 3541 4974\n",
      " 5065 1025 4865 2239  834 4621  449 4141  564  733  959 1849 2726 2176\n",
      "  723  490 2302 1763  183 1471  425 1963 1581 4042 1468 1230 3204 4834\n",
      "  135  633 4639 4229 1530 2996 4980 4000  311 3509 1633  848 1983 3385\n",
      " 2218 1211 1130 3440 4152 3566 2526  807 1541 2725 3527 1839 2490 1955\n",
      " 4833 2961 3653 4892 4303 1643 4270 3114 2848 1435  641 3185 4472   15\n",
      " 4971 2278 1442 4119  620 3438 3010 3420 4769 2195  427  398 1625   88\n",
      " 3140 1323 2409 2880  179 3017 2619 2921  209 2655 3618 4813  254 4146\n",
      "  354  987 4541 3629 2320   80 2298 5101 4905 3774 4828 1198 1353  120\n",
      " 4748  119  716 2650 3614  279 4680 1274 1823 4661  315 3125 4665 1088\n",
      " 1937 3462 4923 1412  708 2789 3208 4707  483 2823  859 3731 4656  191\n",
      " 4738  681 1663  908 2649 3257 2069 2821 3636 4385 3517 3945 2494 3648\n",
      "  544 1458  440 2057 1302 2547 4863 2935  611 2641 2117   78  284 2550\n",
      "  362 4624 4334 4920 1235 2094 3773 1931  713 3253  909 4054 4262  856\n",
      " 3197 4265 3390 3788 4275 3791 2760 3879  484  876 4758 2721 1764 4083\n",
      " 2773  845 3685 3176  586 3316 2825  137 3107 2244  977  946  827 3642\n",
      " 1856 1042 2137 2451 1356  657 5031 4490  693 4760 2049 3175  469  215\n",
      " 4013 4844 2134   38 1278 4674 5053  739 4999 3449 3647 3961  598 3530\n",
      " 3188 1998 2838  364 3741 4924 4997 3367 2138 1334 3091 4126 3381  458\n",
      " 2084 2329 2221  842 2809 1933  578  619 1594  957 2628 3360 1380 4447\n",
      " 1213 3555  982  194 3889 1526  302 3616 1215 3985 4452 1935 1525  837\n",
      " 4940 2829  344 2318 1164 3044 3992 1825  963 1593 4315 4612 2830 2560\n",
      " 1330 2931 4716 4498 1128 2636 1912]\n",
      "Train :  [3540  892 4741 ... 4045 1376 3659] Test :  [1353  776 1986 3384 3610 2495 2405 3564 4482 1409  245  455 1783 5086\n",
      " 2352 1437  203 4041 3040 4744 2367 2231 1574 1386  753 3809 3599  861\n",
      " 1803 1685 2456 2316 4128 3694 1941 1631  612 3908 3723 3784 3423 2544\n",
      " 4704  599 1618 3711  217  113  954 3607 3783 2327 1800 2049  168  429\n",
      "   57 1384 1726  575 1793  994 2284  472 1368 4365  349 4276 3852 3103\n",
      " 1425  138 4495 1498 1260   71 2960  483 3289 4081   34  597  982  989\n",
      " 1516  477 4405 2230 3217   77 1066  658 2953 3400 2956 2246 1520 4272\n",
      " 3125 2879 4763 1965  387  169  902 2390 3778 2307 3074 4907  985  731\n",
      " 1945 4118 2346 4143 4179 2290 2983 2821 1090 2309 1023 2224 4653 4511\n",
      " 1966 1442 4497 4409 2492 4950 3252 4351 3569 3700 2373  949 1787  272\n",
      " 1403 3941 4958  280 1898 3479 1133 2901 1749 2347  905 4831 3912  836\n",
      " 1034  392 2076 3049 2292 3449 2605 1358 4884  735 4522 1042 3128 3856\n",
      " 2843 1602 2453 2615 2946 4020 3685 2423 3472 2054 2992  797 2387 4549\n",
      " 4923   95  101 3697 2298 1518 4480 4184 1607 1407  252 3527 1932 3353\n",
      "  893 1914 1280 1989 1089  393 3166 1360 4899 1204 1266 1785 1253 2363\n",
      " 4565 1245 1327 1115 2936 3568  511 2518 1340  389 4196 1619 2674  756\n",
      " 2228 5099  732   87 1751 2345 2904  984  251  156  314  538 1954 2974\n",
      " 1861  403  250   16 3324 1241 2625 3891 1311  799 4475  475 1587 4542\n",
      " 2443 4752 3606 2963 4317 2266 1947   11 3863 4772  470 4770 3690  257\n",
      " 1176 3757 2449  182 2081 1555 4314  193 2576 4680  244  537 2776 4150\n",
      " 2853 2717 4692 2289 1822 4263 5080 4237  673  330 3664 3418 3027 2624\n",
      " 4419  960 2205 3818  541 3344 3969 2136 3291 4803 3819 2238 4125   31\n",
      " 1004 3114  922 1355 2140 2919 1990  646 1290 3484 3948 2612 2305 1477\n",
      " 1823 4459 2710  404 3047   39 3017 4659 3528 1695 1067 3638  559  299\n",
      "  911 4039 4487 4256  255 4275  726 2369 3089  653  573 1634 3576 2681\n",
      " 4614 3676   72 4462 1535 1708 3209  306 1177 3572  723 3872 2670 1246\n",
      " 3927 3359 3072 2929  133 3965 1519 4837 2337 2690 3064 2509 1579  262\n",
      " 3705 2006 4933 3483 4101  328 1905 5082  872 1479 4518 4283 4421 4354\n",
      " 2885 4189 3979 2288 4789 2320 1129 1161 1743 4841 1444 2516  516 1596\n",
      " 4685 1669 1804 2486 3220  418   60 3302  907 3244 4843 3768 2372 3749\n",
      " 2236 4773 1257 3005 4915  779 2651 4178 3842 2881 4914 4176 4895  150\n",
      " 3201 2692 4668 2059 3251 3318 3048 1862 1615 2499 4139 1125 2232 4643\n",
      "  528 1586 2635 4955 4373 1645 2898 1544 1084 2359 1239 1321 3218 3512\n",
      " 2945 1032 2252 1371 2409  235 2828 2335 1897 3311 4122  580 2595 4209\n",
      "  269 2683 4086 1654 4779 2277 1717  338  176 2270 4386  804 4077  540\n",
      " 4340 4963  881 1920  316  596 2330 2019 3834 4326  851 2910  305 3788\n",
      " 2703 5104 2734  519 3493 1233 3653]\n",
      "Train :  [2640 4242 2464 ... 4481  915 2878] Test :  [2410  685 3812 1371 5053 1742  853 1789 2914 2969 2411 4377 4378 3621\n",
      " 1819 3022  150 1486 4667 2047 1545 2995 2716 4939 3691 1093 3498 2966\n",
      " 4538 3686   47  169 4953 3771 3123 2651 1728 1329  813 1211 1259 1571\n",
      "  902   29 2917  389  353 2041 1065  680  142 3492 4707 1626 1353 2373\n",
      " 4647 1183 2883 4421 4541  900 1166   95  931 3708 3908 1758 2896  653\n",
      " 2762 3092 2771 3413 3599 4653 2913  834  109 2314 4891 2779 4807 2002\n",
      " 1501  982 3547 1169 2466 2144 3152 2824 1396 3104 2546  863 2014 3035\n",
      " 3962 2187 4894 2921 4874  912 4985 2157 1299 4625 5066 2424 1168 3803\n",
      " 4419 4729 4139  464 2108  297 1856 2832 3286 3847 2522 3856 4826 2440\n",
      "  333 1926 2736  746 2471 3062  724 2828 4250  602 1064 2945 4829 4126\n",
      " 3934 2870 2473  295 1335  961  191 3965  868 3529  432  969  524 1927\n",
      " 1597 2093  218 2320 2684 4918 1289 4245  436 2348 1467  408 3279  264\n",
      " 1010 1260  124 2403 1341 4751 1547 4670  734 2441 3986 3872  147 2038\n",
      " 3755 3351 1035 1637 3133 2259 4825  544  236  721  629 1602 3530 4734\n",
      "  375 4280 2338 3200 2559  180  190 2614 2476 3010  290 1681 2903 3112\n",
      " 4283 1907 4971 5073  424 4416 4551  559 4616  279 3648 3684  429 3241\n",
      " 4859 3430 1153  937 2211 3156  750 4321 5074 1028 2447 3488 4267 1096\n",
      " 4292 2458   84  335  402 2207 3911 1405 2869  554 1195 4906 1193 3353\n",
      " 3745 5101 2141 4696 1104  213 3271 4512 3222  971 2889  300 3139 2644\n",
      " 1609  801 2111 1079 3898  808 2415 1829  406 2061 4758 3310 3168  910\n",
      " 1815 2203 1275  716  203 4764 2708 1468 3150 4804 1713 4137 3641 3674\n",
      " 2566 2232 3782 3633 1721 2066 1375  417 3261 1813  448 4344 4158 4322\n",
      " 3805 1207 4703 1005  607  748 3725 2975  793 2582 1370 4359  798  606\n",
      " 3935 2599 3357 4479 3183 1120 4253 2834 4070 2246 1676 2822   34 4970\n",
      " 3714 3309 3789  770 2469 4856  331 2511 4509  341 4979  270 3990  506\n",
      " 3341 1757 2705 3348 3667 2329 3207 2961 3739 3630 2702 2531  928 4105\n",
      "  301 2753 1466 3336 1531 2486 4934 4824 3973 1595 3288 1436  604 2773\n",
      " 3577 2947 1956 3384  166 1664  393 1746 4650 4596  854 3180 1577  520\n",
      "  941 2427 2385 4325 3186 3638 5015 3968 3590 4869 3690 3457 1063 4542\n",
      " 3313 4362  185 4352 1113 1419 2570 3607 1428 1765 5032 4339   32 2194\n",
      " 2696 1333 2498 4981 1877 4562 1759  172 5058  549  177 2379   78 2840\n",
      " 1484   94 5035 3929 3093 5080 2607  901 3345 2520 2540 3333 3969 1699\n",
      " 1140 3645 4875 2359 1603 2044  639 3961 2248  274  652 2293 4047 3396\n",
      " 1103 1936 1797 3761 4132 4803 2452 3766 2960 4191  843 2372 1775 3272\n",
      " 1407 3076  956 2335 3044 1160 3886 2485 3362 3816 3072 4573  709 2265\n",
      " 1854 2341 3380 1919  555 3664 2801 3262 3394 4739  712 1105 1584  786\n",
      " 2861 2728 4503  626 1397 3040 4576]\n",
      "Train :  [1527 4098 1133 ... 1393 1428 1389] Test :  [ 285 3876 4652 4313 4583 4102 4948 4114   33 2537 2892 3623 3399 3185\n",
      "  439  134  104 4724 3122 3969  136 3654 4694 1357 1166 3696 3659 3679\n",
      " 3591 3682 4251 4276 2788 2210  887 3055 3963 3851   40 4582 4357 3260\n",
      "  508  195 2875  948 2241 1722 4396 2012 4836 2139 3095 4928 3789 3222\n",
      " 4837 4639  987  931 3791 2087 2697 1818 4970 2774 3637 1514  465 2427\n",
      " 2314 4637 3640  938 1612 4764 3675 2512 2648 3431 2927 2193 3799 3790\n",
      " 1835 4258 2071 1192  395 4449 2607  717 4831 2515 2160 1360 2050  709\n",
      " 3437 3378 4561  367 4342 1524 2491 2055 5079  143 2442  394 1876  196\n",
      " 4291  366 3772 2772  430 4505 2744 3620 2218 3763 3113 1698  719 3731\n",
      " 1735 3636 4791 1705  761   89 1895 2829 2467 3160 2566  303 1083 3329\n",
      "  241 3871 4026 1975 2125 1892 4634 5094 3844 3377  513 1918 1789 4340\n",
      " 1867  911 1299 4654 1988 1585 1593  193 2585  890 3915 4653 3752 3138\n",
      "  213 3617 2587 2233 3826 3887 3753 2591 1261 1621  786  627 3746 3373\n",
      "  500 3972 4068 1438 1307 3676 2947 4720  965  780 1313  691 2144 1501\n",
      " 2468 2232 4132  403 2739 3571 3477  970  149 3495 2024  404 1268 1116\n",
      " 4331 3912 4768 1420 2652  339 4874 1498  501  269 4555 1824 3773 4213\n",
      " 2027 1882   84  192 3271 4109 3343 3438 4381  287  145  912 2315 1258\n",
      " 3036 1340 2541 1050 4280 2949 2613 3282 1923  684 1391 3919 1718 1945\n",
      " 3586 3061 3920 2085 1719 2318 4534  144 1103 3127 3018 1829 3277 1236\n",
      " 2130 3196 2825  991 1628 4427 1316 2184 3265 3379  388 2398 3020 3075\n",
      " 4285 3159 4451 2640  831 4281 2199 2190 3408 3011 4781  648 4206 5067\n",
      " 4629 4727 4635 3170 4076  545 1655 2355 5008  795 2201 1570 4710 2553\n",
      " 4878 3713 2706 1607  751 1335 3047 2363  528 2102  866  733 4946   60\n",
      " 3383 1741   11 3837  150 3890 4283 4947 4321 2519 1324  484 4643  850\n",
      " 3745  379 4965 2582 2146 1160 4813 4927 4246 3156 3096  919 3891 4343\n",
      "  524 4713 1193 4749 4589 1065 1998 2737 3332 1638 2502 2542 3688 4812\n",
      " 3758 4032 1757 4093 1657 4815   88  351 4403 4911 3981 4437  872 3337\n",
      " 4300 1736 4262 2123  574 2983 1233 4689 2539  129 4525 1640  106  354\n",
      " 1320  945 2154 4664 2598 3936 1980 2143 1097 3226  132 3988 3517   53\n",
      " 3109 1350 2374 1234 3344 3415 1220 1671 3258 1525 2047 1954 1987 4734\n",
      " 2619 4211 4025 2887 4801 3135 5023 5077 1484 1601  492  859 1223 2681\n",
      " 3065 4337  595  851 3722 2507 1412 1086 1747 4491 2161 4888  636 4029\n",
      " 2590 2532 1496 4448 3458  940 3663  391 1046 3635 3811    2 3781 4824\n",
      " 4294 2100 1507 2971 1493  607 2562 3301 4839 3157 1304 3625 2858 3613\n",
      " 2888 3001 3582 3807 4542 1725 3743  896 4863 2009 3896 1443 2053 4631\n",
      " 3231 1035 3078 1773 3296 2975 3560 2703 1178 1521 2092 1195 1589 2783\n",
      " 4047 5005 4926 1281  834 4872 3369]\n",
      "Train :  [ 422 3162 2129 ...   93 2854 3600] Test :  [4105 4848 3775 1248 3228 2457 4424  783 1295  653  716 4127 5109 1018\n",
      " 4264 2580 2758 4421 5030 1218 1480 4910 2234 4959 2849 4700 4641   43\n",
      " 2032  880 2372 4282  732  903 2782  350 3324  542 3500 3477 1037 3728\n",
      " 1590 2152 2436 1320 1517  297 3388 4969 1129  392  703 4905 2345  219\n",
      " 2989  932 4504 1673 3290 3577  525 3482  913 3234 4999 1995 2984 4782\n",
      " 4931 3224  580 4823 1681 3394 1727  957 1420 1172 3825 3544 2866 2744\n",
      "  479 4548  600 1763 1250  865 3576 1774  804 3326 4907 4929 3749 2680\n",
      " 1954 2017 4837  160 4586 2742 3833 4010  765  636 3174  125 2107 4471\n",
      " 4031 2291 2852  381 2614 3830 3349 4893  531 2883 5081 3575 2426 1458\n",
      " 1308 1844 1287 3687 3606 2224 2666 3693  606 3640 1744  998 3551 1367\n",
      " 4896  999 1974 3661 3444 4750 3615 2037 1078  481 4226  426  410 3989\n",
      " 2673 1205  589 3567 1546 3764 1044 1746 5086 2924 4935 1834 2643 1257\n",
      " 3942 2704 1822  673 1658  759 4925 4546 3515  366 2607  201 1121 3756\n",
      "  382 2019 2191  632 2411 1429 2088 4056 4726  347 1942  639 4545  435\n",
      " 1125  699 2280 3594 3863 5000 4856 4520 5049 1207 4752 2596 4573 1761\n",
      " 2766 2701   53 1577 4234 3900 4895 1513 3261 2248 1226 2589 1459 4231\n",
      " 4780 3815 4979 3140 2269 4702 3251  780 2937 3332 2961 2012 2355 3011\n",
      " 3100 1604 2986 2147  396 3130 2360 4509 2692 3048 4045 4145 1576 4324\n",
      "   47 4810 4983 2710 1713  526 1102 5091 3015 3632 3904 3909 1920 4831\n",
      " 1864 3819 2956 4499 4807  803 1419  401 4614 4059 2687 1243 4838 1973\n",
      "  615    2 1965  949 1431 1922  446 2364 4068 4042 2693 1238 2513  610\n",
      " 1204 4547  906 2502 2172 3232 2848 4927 2802 4074 2909  950 4508 1649\n",
      " 4961 3204 1918 4749 2526 3374 1875 3402 2553  693  624  683 3715  349\n",
      " 3552 2623 2647 1671 4572  152 2571 3154 2913 2055 3911 4899 1503 1499\n",
      " 1587 3540 1348 1770 2069  742 1924 1988 4525 2540 1132 4328 3073 2114\n",
      " 3183 4933 4407 3194  853 4016 2413 3642 5100  884  335 3275 3914 2935\n",
      " 1147 4852  159 2735 2483 3734    7  331  374  688 4872  789  100  687\n",
      " 3474 4753 4881 1472 2299 4668 1124  736 1482 3946  797 1917 1773 3118\n",
      " 3258 1203 2839 2947 4099 2112 4784 3633 2447 2799 3476 2386  779 2154\n",
      "  419  280 2964 1625  187  523 1335 3947   15 2316 1383 4619 3857 1519\n",
      " 3866 5069 2246 4088 1220  602 1708 1101 2122 4947  370 4588  564 1056\n",
      "  292 4921 3586 4287 3629 2075 3638 4279 1984 2824  498  672 1696 4521\n",
      " 1970 4515 3316 1128 2216  384 2528 4296 2659 3553 1425 4871 4890 5088\n",
      " 1738 4875 2437  649  927 1294 4119 1042 3230  587  471 2715 1211 4340\n",
      "  676 4327  762 2512 2900 1692 4467 2999 3433 3607 4384 4143 3963 4447\n",
      " 1268 4646 2410 3516 1655 2377  319 2170 3841 4681 2471 2431  482 2492\n",
      " 4443  337 2519  841  741  478   84]\n"
     ]
    }
   ],
   "source": [
    "for train_index,test_index in sss.split(X,y):\n",
    "    print(\"Train : \", train_index , \"Test : \" , test_index)\n",
    "    X_train,X_test=X[train_index] , X[test_index]\n",
    "    y_train,y_test=y[train_index] , y[test_index]"
   ]
  },
  {
   "cell_type": "code",
   "execution_count": 25,
   "id": "04e8f821",
   "metadata": {},
   "outputs": [
    {
     "data": {
      "text/plain": [
       "KNeighborsClassifier(n_neighbors=10)"
      ]
     },
     "execution_count": 25,
     "metadata": {},
     "output_type": "execute_result"
    }
   ],
   "source": [
    "# Using LogisticRegression\n",
    "\n",
    "from sklearn.linear_model import LogisticRegression\n",
    "from sklearn.metrics import mean_squared_error\n",
    "\n",
    "clf=LogisticRegression()\n",
    "clf.fit(X_train,y_train)\n"
   ]
  },
  {
   "cell_type": "code",
   "execution_count": 26,
   "id": "63cfd2cd",
   "metadata": {},
   "outputs": [
    {
     "name": "stdout",
     "output_type": "stream",
     "text": [
      "0.32732683535398854\n"
     ]
    }
   ],
   "source": [
    "pred=clf.predict(X_test[344:400])\n",
    "mse=mean_squared_error(y_test[344:400],pred)\n",
    "print(np.sqrt(mse))"
   ]
  },
  {
   "cell_type": "code",
   "execution_count": 27,
   "id": "a77e82e4",
   "metadata": {},
   "outputs": [
    {
     "name": "stdout",
     "output_type": "stream",
     "text": [
      "Pred : \n",
      " [0 0 0 0 0 0 0 0 0 0 0 0 0 0 0 0 0 0 0 0 0 0 0 0 0 0 0 0 0 0 0 0 0 0 0 0 0\n",
      " 0 0 0 0 0 0 0 0 0 0 0 0 0 0 0 0 0 0 0] \n",
      " Actual :  [0 0 0 0 0 0 0 0 0 0 1 0 0 0 0 0 0 1 0 0 0 0 0 0 0 0 1 0 0 0 0 1 0 0 0 0 0\n",
      " 0 0 0 0 0 0 0 1 0 0 0 1 0 0 0 0 0 0 0]\n"
     ]
    }
   ],
   "source": [
    "print(\"Pred : \\n\" , pred , \"\\n Actual : \" , y_test[344:400]) "
   ]
  },
  {
   "cell_type": "code",
   "execution_count": 29,
   "id": "5369d3ab",
   "metadata": {},
   "outputs": [],
   "source": [
    "from joblib import dump,load\n",
    "\n",
    "dump(clf,\"stroke_pred_model.joblib\")\n",
    "clf_load=load(\"stroke_pred_model.joblib\")"
   ]
  },
  {
   "cell_type": "code",
   "execution_count": 30,
   "id": "46404e46",
   "metadata": {},
   "outputs": [
    {
     "name": "stdout",
     "output_type": "stream",
     "text": [
      "0.2211869776019044\n"
     ]
    }
   ],
   "source": [
    "pred_j=clf_load.predict(X_test)\n",
    "mse_j=mean_squared_error(y_test,pred_j)\n",
    "print(np.sqrt(mse_j))"
   ]
  },
  {
   "cell_type": "code",
   "execution_count": 31,
   "id": "501350b1",
   "metadata": {},
   "outputs": [],
   "source": [
    "# 0.23822566551564467"
   ]
  }
 ],
 "metadata": {
  "kernelspec": {
   "display_name": "Python 3 (ipykernel)",
   "language": "python",
   "name": "python3"
  },
  "language_info": {
   "codemirror_mode": {
    "name": "ipython",
    "version": 3
   },
   "file_extension": ".py",
   "mimetype": "text/x-python",
   "name": "python",
   "nbconvert_exporter": "python",
   "pygments_lexer": "ipython3",
   "version": "3.10.2"
  }
 },
 "nbformat": 4,
 "nbformat_minor": 5
}
